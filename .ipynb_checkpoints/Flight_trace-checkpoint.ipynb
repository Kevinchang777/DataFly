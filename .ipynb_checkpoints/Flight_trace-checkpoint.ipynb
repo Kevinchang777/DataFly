{
 "cells": [
  {
   "cell_type": "code",
   "execution_count": 33,
   "metadata": {
    "collapsed": false,
    "scrolled": false
   },
   "outputs": [
    {
     "data": {
      "text/html": [
       "<div>\n",
       "<table border=\"1\" class=\"dataframe\">\n",
       "  <thead>\n",
       "    <tr style=\"text-align: right;\">\n",
       "      <th></th>\n",
       "      <th>iata</th>\n",
       "      <th>airport</th>\n",
       "      <th>lat</th>\n",
       "      <th>long</th>\n",
       "    </tr>\n",
       "  </thead>\n",
       "  <tbody>\n",
       "    <tr>\n",
       "      <th>0</th>\n",
       "      <td>NaN</td>\n",
       "      <td>SDC Gdansk</td>\n",
       "      <td>3.364044e+09</td>\n",
       "      <td>-8.442694e+09</td>\n",
       "    </tr>\n",
       "    <tr>\n",
       "      <th>1</th>\n",
       "      <td>NaN</td>\n",
       "      <td>SDC Bangalore</td>\n",
       "      <td>3.289595e+09</td>\n",
       "      <td>-9.703720e+05</td>\n",
       "    </tr>\n",
       "    <tr>\n",
       "      <th>2</th>\n",
       "      <td>NaN</td>\n",
       "      <td>SDC Gdansk</td>\n",
       "      <td>3.343417e+09</td>\n",
       "      <td>-1.120081e+09</td>\n",
       "    </tr>\n",
       "    <tr>\n",
       "      <th>3</th>\n",
       "      <td>NaN</td>\n",
       "      <td>SDC Bangalore</td>\n",
       "      <td>3.985841e+09</td>\n",
       "      <td>-1.046670e+09</td>\n",
       "    </tr>\n",
       "    <tr>\n",
       "      <th>4</th>\n",
       "      <td>NaN</td>\n",
       "      <td>SDC Gdansk</td>\n",
       "      <td>2.998047e+09</td>\n",
       "      <td>-9.533972e+09</td>\n",
       "    </tr>\n",
       "  </tbody>\n",
       "</table>\n",
       "</div>"
      ],
      "text/plain": [
       "   iata        airport           lat          long\n",
       "0   NaN     SDC Gdansk  3.364044e+09 -8.442694e+09\n",
       "1   NaN  SDC Bangalore  3.289595e+09 -9.703720e+05\n",
       "2   NaN     SDC Gdansk  3.343417e+09 -1.120081e+09\n",
       "3   NaN  SDC Bangalore  3.985841e+09 -1.046670e+09\n",
       "4   NaN     SDC Gdansk  2.998047e+09 -9.533972e+09"
      ]
     },
     "execution_count": 33,
     "metadata": {},
     "output_type": "execute_result"
    }
   ],
   "source": [
    "# Data visualisation practice: See CO trace\n",
    "# 2017-09-20\n",
    "#Filip\n",
    "#Kevin\n",
    "\n",
    "import plotly.offline as py\n",
    "import pandas as pd\n",
    "import requests\n",
    "\n",
    "df_airports = pd.read_excel(r'location.xlsx')\n",
    "df_flight_paths = pd.read_excel(r'PU&WF&CO.xlsx')"
   ]
  },
  {
   "cell_type": "code",
   "execution_count": 114,
   "metadata": {
    "collapsed": false,
    "scrolled": true
   },
   "outputs": [],
   "source": [
    "df_flight_paths[['GRID ID','WF','CO location']].isnull().any()\n",
    "df_flight_paths.dropna(inplace=True)\n",
    "\n",
    "df_flight_paths.CDU=df_flight_paths.CDU.apply(lambda x:x.replace('SDC ',''))\n",
    "df_flight_paths.CDU=df_flight_paths.CDU.apply(lambda x:x.replace('CDU ',''))\n",
    "df_flight_paths.CDU=df_flight_paths.CDU.apply(lambda x:x.replace('Local ',''))\n",
    "\n",
    "df_flight_paths['CO location']=df_flight_paths['CO location'].apply(lambda x:x.replace('FI Global KYC CO','Amsterdam'))\n",
    "df_flight_paths['CO location']=df_flight_paths['CO location'].apply(lambda x:x.replace('FM Global KYC CO','Eindhoven'))\n",
    "df_flight_paths['CO location']=df_flight_paths['CO location'].apply(lambda x:x.replace('KYC CO (KZ)',''))\n",
    "df_flight_paths['CO location']=df_flight_paths['CO location'].apply(lambda x:x.replace('KYC CO (Nordic)',''))\n",
    "df_flight_paths['CO location']=df_flight_paths['CO location'].apply(lambda x:x.replace('KYC CO',''))\n",
    "df_flight_paths['CO location']=df_flight_paths['CO location'].apply(lambda x:x.replace('TBD','Beijing'))\n",
    "df_flight_paths['CO location']=df_flight_paths['CO location'].apply(lambda x:x.replace('Trust','Amsterdam'))\n",
    "df_flight_paths['CO location']=df_flight_paths['CO location'].apply(lambda x:x.replace(' ',''))\n",
    "\n",
    "df_flight_paths['WF_NUMBER']=df_flight_paths.WF.apply(lambda x: int(x.split(\".\")[0]) if x.split(\".\")[0]!='Old status' else 0)\n",
    "df_flight_paths['Color_Category']=df_flight_paths.WF_NUMBER.apply(lambda x: 'grey' \\\n",
    "                                                                  if x< 18 else 'red' \\\n",
    "                                                                  if x in [18,19,20,25,26] else 'yellow' \\\n",
    "                                                                  if x in [21,22,23,27,28,29,30] else 'green')\n",
    "df_flight_paths.drop('WF_NUMBER',axis=1,inplace=True)"
   ]
  },
  {
   "cell_type": "code",
   "execution_count": 34,
   "metadata": {
    "collapsed": false,
    "scrolled": true
   },
   "outputs": [
    {
     "data": {
      "text/plain": [
       "False"
      ]
     },
     "execution_count": 34,
     "metadata": {},
     "output_type": "execute_result"
    }
   ],
   "source": [
    "# Check is there any null in locations\n",
    "df_airports=df_airports[[\"airport\",'lat','long']]\n",
    "df_airports.airport.isnull().any()\n",
    "# Only keep country and location name\n",
    "df_airports.airport=df_airports.airport.apply(lambda x:x.replace('SDC ',''))\n",
    "df_airports.airport=df_airports.airport.apply(lambda x:x.replace('CDU ',''))\n",
    "df_airports.airport=df_airports.airport.apply(lambda x:x.replace('Local ',''))\n",
    "df_airports.airport=df_airports.airport.apply(lambda x:x.replace('FI Global KYC CO','Amsterdam'))\n",
    "df_airports.airport=df_airports.airport.apply(lambda x:x.replace('FM Global KYC CO','Eindhoven'))\n",
    "df_airports.airport=df_airports.airport.apply(lambda x:x.replace('KYC CO (KZ)',''))\n",
    "df_airports.airport=df_airports.airport.apply(lambda x:x.replace('KYC CO (Nordic)',''))\n",
    "df_airports.airport=df_airports.airport.apply(lambda x:x.replace('KYC CO',''))\n",
    "df_airports.airport=df_airports.airport.apply(lambda x:x.replace('TBD','Beijing'))\n",
    "df_airports.airport=df_airports.airport.apply(lambda x:x.replace('Trust','Amsterdam'))\n",
    "df_airports.airport=df_airports.airport.apply(lambda x:x.replace(' ',''))"
   ]
  },
  {
   "cell_type": "code",
   "execution_count": 59,
   "metadata": {
    "collapsed": false,
    "scrolled": true
   },
   "outputs": [
    {
     "name": "stdout",
     "output_type": "stream",
     "text": [
      "{'lat': 54.35202520000001, 'lng': 18.6466384}\n",
      "{'lat': 12.9715987, 'lng': 77.5945627}\n",
      "{'lat': 14.5995124, 'lng': 120.9842195}\n",
      "{'lat': 51.5073509, 'lng': -0.1277583}\n",
      "{'lat': 49.815273, 'lng': 6.129582999999999}\n",
      "{'lat': 48.1485965, 'lng': 17.1077478}\n",
      "{'lat': 51.919438, 'lng': 19.145136}\n",
      "{'lat': 46.818188, 'lng': 8.227511999999999}\n",
      "{'lat': 52.3702157, 'lng': 4.895167900000001}\n",
      "{'lat': 40.7127837, 'lng': -74.0059413}\n",
      "{'lat': 45.943161, 'lng': 24.96676}\n",
      "{'lat': 38.963745, 'lng': 35.243322}\n",
      "{'lat': 51.165691, 'lng': 10.451526}\n",
      "{'lat': 55.378051, 'lng': -3.435973}\n",
      "{'lat': 46.227638, 'lng': 2.213749}\n",
      "{'lat': 50.503887, 'lng': 4.469936}\n",
      "{'lat': 52.132633, 'lng': 5.291265999999999}\n",
      "{'lat': 1.352083, 'lng': 103.819836}\n",
      "{'lat': 51.44164199999999, 'lng': 5.4697225}\n",
      "{'lat': 36.204824, 'lng': 138.252924}\n",
      "{'lat': 54.5259614, 'lng': -105.2551187}\n",
      "{'lat': 23.69781, 'lng': 120.960515}\n",
      "{'lat': 48.379433, 'lng': 31.1655799}\n",
      "{'lat': 41.87194, 'lng': 12.56738}\n",
      "{'lat': 35.86166, 'lng': 104.195397}\n",
      "{'lat': 35.907757, 'lng': 127.766922}\n",
      "{'lat': 61.52401, 'lng': 105.318756}\n",
      "{'lat': 39.90419989999999, 'lng': 116.4073963}\n",
      "{'lat': 48.669026, 'lng': 19.699024}\n",
      "{'lat': 49.81749199999999, 'lng': 15.472962}\n",
      "{'lat': 47.162494, 'lng': 19.5033041}\n",
      "{'lat': 40.46366700000001, 'lng': -3.74922}\n",
      "{'lat': 39.39987199999999, 'lng': -8.224454}\n",
      "{'lat': 42.733883, 'lng': 25.48583}\n",
      "{'lat': 22.396428, 'lng': 114.109497}\n"
     ]
    }
   ],
   "source": [
    "# get unique locations\n",
    "location_list=df_airports.airport.unique().tolist()\n",
    "\n",
    "# get GPS locations\n",
    "location_list=df_airports.airport.unique()\n",
    "GeoData={}\n",
    "api_key = \"\"\n",
    "for x in location_list:\n",
    "    try:\n",
    "        country=x\n",
    "        response = requests.get('https://maps.googleapis.com/maps/api/geocode/json?address={0}&key={1}'.format(x, api_key))\n",
    "        resp_json_payload = response.json()\n",
    "        print(resp_json_payload['results'][0]['geometry']['location'])\n",
    "        temp=resp_json_payload['results'][0]['geometry']['location']\n",
    "        GeoData[country]=temp\n",
    "    except:\n",
    "        pass\n",
    "\n",
    "Locations_GPS=pd.DataFrame(GeoData).T.reset_index()"
   ]
  },
  {
   "cell_type": "code",
   "execution_count": 75,
   "metadata": {
    "collapsed": false
   },
   "outputs": [],
   "source": [
    "df_location_filled=df_airports[['airport']].merge(Locations_GPS,left_on='airport',right_on='index',how='left')\n",
    "df_location_filled.drop('index', axis=1, inplace=True)\n",
    "df_location_filled.rename(columns={'lng':'long'},inplace=True)"
   ]
  },
  {
   "cell_type": "code",
   "execution_count": 115,
   "metadata": {
    "collapsed": false
   },
   "outputs": [],
   "source": [
    "df_flight_paths_1=df_flight_paths.merge(Locations_GPS,left_on='CDU',right_on='index',how='left')\n",
    "df_flight_paths_filled=df_flight_paths_1.merge(Locations_GPS,left_on='CO location',right_on='index',how='left',suffixes=('_start', '_end'))\n",
    "df_flight_paths_filled.drop(['index_start','index_end',],axis=1,inplace=True)"
   ]
  },
  {
   "cell_type": "code",
   "execution_count": 130,
   "metadata": {
    "collapsed": false,
    "scrolled": true
   },
   "outputs": [],
   "source": [
    "# The one below is \"df_airport\",'df_flight_paths'\n",
    "df_location_filled.to_excel(r'C:\\Users\\gzhang080\\Documents\\Mystaff\\Project\\KYC\\GitTest\\DataFly\\df_location.xlsx')\n",
    "df_flight_paths_filled.to_excel(r'C:\\Users\\gzhang080\\Documents\\Mystaff\\Project\\KYC\\GitTest\\DataFly\\df_flight_paths.xlsx')"
   ]
  },
  {
   "cell_type": "code",
   "execution_count": null,
   "metadata": {
    "collapsed": true
   },
   "outputs": [],
   "source": [
    "\n",
    "airports = [ dict(\n",
    "        type = 'scattergeo',\n",
    "        locationmode = 'USA-states',\n",
    "        lon = df_airports['long'],\n",
    "        lat = df_airports['lat'],\n",
    "        hoverinfo = 'text',\n",
    "        text = df_airports['airport'],\n",
    "        mode = 'markers',\n",
    "        marker = dict( \n",
    "            size=2, \n",
    "            color='rgb(255, 0, 0)',\n",
    "            line = dict(\n",
    "                width=3,\n",
    "                color='rgba(68, 68, 68, 0)'\n",
    "            )\n",
    "        ))]\n",
    "        \n",
    "flight_paths = []\n",
    "for i in range( len( df_flight_paths ) ):\n",
    "    flight_paths.append(\n",
    "        dict(\n",
    "            type = 'scattergeo',\n",
    "            locationmode = 'USA-states',\n",
    "            lon = [ df_flight_paths['start_lon'][i], df_flight_paths['end_lon'][i] ],\n",
    "            lat = [ df_flight_paths['start_lat'][i], df_flight_paths['end_lat'][i] ],\n",
    "            mode = 'lines',\n",
    "            line = dict(\n",
    "                width = 1,\n",
    "                color = 'red',\n",
    "            ),\n",
    "            opacity = float(df_flight_paths['cnt'][i])/float(df_flight_paths['cnt'].max()),\n",
    "        )\n",
    "    )\n",
    "    \n",
    "layout = dict(\n",
    "        title = 'Feb. 2011 American Airline flight paths<br>(Hover for airport names)',\n",
    "        showlegend = False, \n",
    "        geo = dict(\n",
    "            scope='China',\n",
    "            projection=dict( type='azimuthal equal area' ),\n",
    "            showland = True,\n",
    "            landcolor = 'rgb(243, 243, 243)',\n",
    "            countrycolor = 'rgb(204, 204, 204)',\n",
    "        ),\n",
    "    )"
   ]
  },
  {
   "cell_type": "code",
   "execution_count": null,
   "metadata": {
    "collapsed": false
   },
   "outputs": [],
   "source": [
    "flight_paths"
   ]
  },
  {
   "cell_type": "code",
   "execution_count": null,
   "metadata": {
    "collapsed": false
   },
   "outputs": [],
   "source": [
    "fig = dict( data=flight_paths + \n",
    "           airports, layout=layout )\n",
    "py.plot( fig, filename='d3-flight-paths' )"
   ]
  }
 ],
 "metadata": {
  "kernelspec": {
   "display_name": "Python 3",
   "language": "python",
   "name": "python3"
  },
  "language_info": {
   "codemirror_mode": {
    "name": "ipython",
    "version": 3
   },
   "file_extension": ".py",
   "mimetype": "text/x-python",
   "name": "python",
   "nbconvert_exporter": "python",
   "pygments_lexer": "ipython3",
   "version": "3.6.0"
  }
 },
 "nbformat": 4,
 "nbformat_minor": 2
}
